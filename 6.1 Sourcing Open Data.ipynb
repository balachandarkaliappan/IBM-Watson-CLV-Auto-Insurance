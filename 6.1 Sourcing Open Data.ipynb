{
 "cells": [
  {
   "cell_type": "markdown",
   "id": "c9ce804c-a42c-4cb9-8c57-db16426ec50d",
   "metadata": {},
   "source": [
    "## Exercise 6.1: Sourcing Open Data"
   ]
  },
  {
   "cell_type": "markdown",
   "id": "d1c1c7ff-f4f9-4a5e-b589-2060ca662793",
   "metadata": {},
   "source": [
    "## Reading the data file"
   ]
  },
  {
   "cell_type": "code",
   "execution_count": 50,
   "id": "5d5c11dc-ee0f-4616-a252-1fbce2c55138",
   "metadata": {},
   "outputs": [],
   "source": [
    "### Loading the required packages\n",
    "\n",
    "import pandas as pd\n",
    "import numpy as np\n",
    "import os"
   ]
  },
  {
   "cell_type": "code",
   "execution_count": 51,
   "id": "e4d1c34b-1d55-46e7-9359-78e1369e65e6",
   "metadata": {},
   "outputs": [],
   "source": [
    "## Setting the path to read the file\n",
    "\n",
    "path = r\"/Users/balachandark/Desktop/Achievement 6\""
   ]
  },
  {
   "cell_type": "code",
   "execution_count": 52,
   "id": "6bc766ad-5e37-4073-9e10-dfcec5b587ae",
   "metadata": {},
   "outputs": [],
   "source": [
    "## Reading the data file\n",
    "\n",
    "df_clv = pd.read_excel(os.path.join(path, 'Data', 'ibm_watson_clv_data.xlsx'))"
   ]
  },
  {
   "cell_type": "code",
   "execution_count": 53,
   "id": "4975dea0-a9b0-4cff-af52-e8df37a3bdf3",
   "metadata": {},
   "outputs": [
    {
     "data": {
      "text/plain": [
       "(9134, 24)"
      ]
     },
     "execution_count": 53,
     "metadata": {},
     "output_type": "execute_result"
    }
   ],
   "source": [
    "## Checking the rows and columns\n",
    "\n",
    "df_clv.shape"
   ]
  },
  {
   "cell_type": "code",
   "execution_count": 54,
   "id": "d96d64cb-8f52-4317-8fae-f25d7acc720b",
   "metadata": {},
   "outputs": [
    {
     "data": {
      "text/plain": [
       "Index(['Customer', 'State', 'Customer Lifetime Value', 'Response', 'Coverage',\n",
       "       'Education', 'Effective To Date', 'EmploymentStatus', 'Gender',\n",
       "       'Income', 'Location Code', 'Marital Status', 'Monthly Premium Auto',\n",
       "       'Months Since Last Claim', 'Months Since Policy Inception',\n",
       "       'Number of Open Complaints', 'Number of Policies', 'Policy Type',\n",
       "       'Policy', 'Renew Offer Type', 'Sales Channel', 'Total Claim Amount',\n",
       "       'Vehicle Class', 'Vehicle Size'],\n",
       "      dtype='object')"
      ]
     },
     "execution_count": 54,
     "metadata": {},
     "output_type": "execute_result"
    }
   ],
   "source": [
    "## Checking the file\n",
    "\n",
    "df_clv.columns"
   ]
  },
  {
   "cell_type": "code",
   "execution_count": 55,
   "id": "84050197-e288-4a41-8b3d-745f9ac136bc",
   "metadata": {},
   "outputs": [],
   "source": [
    "## Renaming all the columns for easier data analysis\n",
    "\n",
    "df_clv.rename(columns = {'Customer': 'customer_id',\n",
    "                         'State': 'state',\n",
    "                         'Customer Lifetime Value': 'customer_lifetime_value',\n",
    "                         'Response': 'response',\n",
    "                         'Coverage': 'coverage',\n",
    "                         'Education': 'education',\n",
    "                         'Effective To Date': 'effective_to_date',\n",
    "                         'EmploymentStatus' : 'employment_status',\n",
    "                         'Gender' : 'gender',\n",
    "                         'Income' : 'income',\n",
    "                         'Location Code': 'region',\n",
    "                         'Marital Status' : 'marital_status',\n",
    "                         'Monthly Premium Auto': 'monthly_premium',\n",
    "                         'Months Since Last Claim': 'months_since_last_claim',\n",
    "                         'Months Since Policy Inception' : 'months_since_policy_inception',\n",
    "                         'Number of Open Complaints': 'no_of_open_complaints',\n",
    "                         'Number of Policies' : 'no_of_policies',\n",
    "                         'Policy': 'policy',\n",
    "                         'Policy Type': 'policy_type',\n",
    "                         'Renew Offer Type': 'renew_offer_type',\n",
    "                         'Sales Channel': 'sales_channel',\n",
    "                         'Total Claim Amount': 'total_claim',\n",
    "                         'Vehicle Class': 'vehicle_class',\n",
    "                         'Vehicle Size': 'vehicle_size'}, inplace = True)"
   ]
  },
  {
   "cell_type": "code",
   "execution_count": 56,
   "id": "7ec73247-582c-431c-b25d-5531cc2992b2",
   "metadata": {},
   "outputs": [
    {
     "data": {
      "text/plain": [
       "Index(['customer_id', 'state', 'customer_lifetime_value', 'response',\n",
       "       'coverage', 'education', 'effective_to_date', 'employment_status',\n",
       "       'gender', 'income', 'region', 'marital_status', 'monthly_premium',\n",
       "       'months_since_last_claim', 'months_since_policy_inception',\n",
       "       'no_of_open_complaints', 'no_of_policies', 'policy_type', 'policy',\n",
       "       'renew_offer_type', 'sales_channel', 'total_claim', 'vehicle_class',\n",
       "       'vehicle_size'],\n",
       "      dtype='object')"
      ]
     },
     "execution_count": 56,
     "metadata": {},
     "output_type": "execute_result"
    }
   ],
   "source": [
    "## Checking the revised column names\n",
    "df_clv.columns"
   ]
  },
  {
   "cell_type": "code",
   "execution_count": 57,
   "id": "f77fcade-a17b-4e82-bb7e-858cb245c393",
   "metadata": {},
   "outputs": [
    {
     "data": {
      "text/plain": [
       "customer_id                       object\n",
       "state                             object\n",
       "customer_lifetime_value          float64\n",
       "response                          object\n",
       "coverage                          object\n",
       "education                         object\n",
       "effective_to_date                 object\n",
       "employment_status                 object\n",
       "gender                            object\n",
       "income                             int64\n",
       "region                            object\n",
       "marital_status                    object\n",
       "monthly_premium                    int64\n",
       "months_since_last_claim            int64\n",
       "months_since_policy_inception      int64\n",
       "no_of_open_complaints              int64\n",
       "no_of_policies                     int64\n",
       "policy_type                       object\n",
       "policy                            object\n",
       "renew_offer_type                  object\n",
       "sales_channel                     object\n",
       "total_claim                      float64\n",
       "vehicle_class                     object\n",
       "vehicle_size                      object\n",
       "dtype: object"
      ]
     },
     "execution_count": 57,
     "metadata": {},
     "output_type": "execute_result"
    }
   ],
   "source": [
    "## Print the data types of the dataset\n",
    "\n",
    "df_clv.dtypes"
   ]
  },
  {
   "cell_type": "markdown",
   "id": "f5330424-2380-4b50-9900-f6f200892796",
   "metadata": {},
   "source": [
    "#### None of the columns were dropped as they are useful for data analysis."
   ]
  },
  {
   "cell_type": "markdown",
   "id": "9265e9da-e18c-459c-9a61-d1dad56a26f1",
   "metadata": {},
   "source": [
    "## Checking for missed values"
   ]
  },
  {
   "cell_type": "code",
   "execution_count": 60,
   "id": "b293be13-94e5-44bd-83aa-d252d667b0ce",
   "metadata": {},
   "outputs": [
    {
     "data": {
      "text/plain": [
       "customer_id                      0\n",
       "state                            0\n",
       "customer_lifetime_value          0\n",
       "response                         0\n",
       "coverage                         0\n",
       "education                        0\n",
       "effective_to_date                0\n",
       "employment_status                0\n",
       "gender                           0\n",
       "income                           0\n",
       "region                           0\n",
       "marital_status                   0\n",
       "monthly_premium                  0\n",
       "months_since_last_claim          0\n",
       "months_since_policy_inception    0\n",
       "no_of_open_complaints            0\n",
       "no_of_policies                   0\n",
       "policy_type                      0\n",
       "policy                           0\n",
       "renew_offer_type                 0\n",
       "sales_channel                    0\n",
       "total_claim                      0\n",
       "vehicle_class                    0\n",
       "vehicle_size                     0\n",
       "dtype: int64"
      ]
     },
     "execution_count": 60,
     "metadata": {},
     "output_type": "execute_result"
    }
   ],
   "source": [
    "df_clv.isnull().sum()"
   ]
  },
  {
   "cell_type": "markdown",
   "id": "10b3bf1b-7a5b-490f-bc2e-625cf7d3a120",
   "metadata": {},
   "source": [
    "#### There are no missing values"
   ]
  },
  {
   "cell_type": "markdown",
   "id": "ce7cb719-01c0-40ac-a18e-1c165cddd597",
   "metadata": {},
   "source": [
    "## Checking for mixed data types"
   ]
  },
  {
   "cell_type": "code",
   "execution_count": 63,
   "id": "59b99e55-3fb7-4c1a-9590-d12fb6e18697",
   "metadata": {},
   "outputs": [
    {
     "name": "stdout",
     "output_type": "stream",
     "text": [
      "There is no mixed-type data\n",
      "There is no mixed-type data\n",
      "customer_lifetime_value\n",
      "There is no mixed-type data\n",
      "There is no mixed-type data\n",
      "There is no mixed-type data\n",
      "effective_to_date\n",
      "There is no mixed-type data\n",
      "There is no mixed-type data\n",
      "income\n",
      "There is no mixed-type data\n",
      "There is no mixed-type data\n",
      "monthly_premium\n",
      "months_since_last_claim\n",
      "months_since_policy_inception\n",
      "no_of_open_complaints\n",
      "no_of_policies\n",
      "There is no mixed-type data\n",
      "There is no mixed-type data\n",
      "There is no mixed-type data\n",
      "There is no mixed-type data\n",
      "total_claim\n",
      "There is no mixed-type data\n",
      "There is no mixed-type data\n"
     ]
    }
   ],
   "source": [
    "for col in df_clv.columns.tolist():\n",
    "    weird = (df_clv[col].apply(type) != type(df_clv[col].iloc[0])).any()\n",
    "    if weird:\n",
    "        print(col)\n",
    "    else: \n",
    "        print('There is no mixed-type data')"
   ]
  },
  {
   "cell_type": "code",
   "execution_count": 82,
   "id": "b37ca247-4c8e-4709-b0ae-77b1ebf81068",
   "metadata": {},
   "outputs": [],
   "source": [
    "## Changing column types\n",
    "\n",
    "# customer_lifetime_value to float\n",
    "df_clv['customer_lifetime_value'] = pd.to_numeric(df_clv['customer_lifetime_value'], errors='coerce')\n",
    "df_clv['customer_lifetime_value'] = df_clv['customer_lifetime_value'].astype('float64') \n",
    "\n",
    "# Convert effective_to_date \n",
    "df_clv['effective_to_date'] = pd.to_datetime(df_clv['effective_to_date'], format='%m/%d/%y', errors='coerce')\n",
    "\n",
    "# Convert numeric columns \n",
    "num_cols = [\n",
    "    'income', 'monthly_premium', 'months_since_last_claim', \n",
    "    'months_since_policy_inception', 'no_of_open_complaints', \n",
    "    'no_of_policies'\n",
    "]\n",
    "\n",
    "for col in num_cols:\n",
    "    df_clv[col] = pd.to_numeric(df_clv[col], errors='coerce').fillna(0).astype('int64')\n",
    "\n",
    "# Convert total_claim to float\n",
    "df_clv['total_claim'] = pd.to_numeric(df_clv['total_claim'], errors='coerce')\n",
    "df_clv['total_claim'] = df_clv['total_claim'].astype('float64')\n"
   ]
  },
  {
   "cell_type": "code",
   "execution_count": 84,
   "id": "63a706ac-f396-490e-aebb-ee0120f991f9",
   "metadata": {},
   "outputs": [
    {
     "name": "stdout",
     "output_type": "stream",
     "text": [
      "customer_id                              object\n",
      "state                                    object\n",
      "customer_lifetime_value                 float64\n",
      "response                                 object\n",
      "coverage                                 object\n",
      "education                                object\n",
      "effective_to_date                datetime64[ns]\n",
      "employment_status                        object\n",
      "gender                                   object\n",
      "income                                    int64\n",
      "region                                   object\n",
      "marital_status                           object\n",
      "monthly_premium                           int64\n",
      "months_since_last_claim                   int64\n",
      "months_since_policy_inception             int64\n",
      "no_of_open_complaints                     int64\n",
      "no_of_policies                            int64\n",
      "policy_type                              object\n",
      "policy                                   object\n",
      "renew_offer_type                         object\n",
      "sales_channel                            object\n",
      "total_claim                             float64\n",
      "vehicle_class                            object\n",
      "vehicle_size                             object\n",
      "dtype: object\n"
     ]
    }
   ],
   "source": [
    "print(df_clv.dtypes)"
   ]
  },
  {
   "cell_type": "code",
   "execution_count": 86,
   "id": "b4324481-01fb-48ea-97ee-1c808736c937",
   "metadata": {},
   "outputs": [
    {
     "name": "stdout",
     "output_type": "stream",
     "text": [
      "There is no mixed-type data\n",
      "There is no mixed-type data\n",
      "customer_lifetime_value\n",
      "There is no mixed-type data\n",
      "There is no mixed-type data\n",
      "There is no mixed-type data\n",
      "There is no mixed-type data\n",
      "There is no mixed-type data\n",
      "There is no mixed-type data\n",
      "income\n",
      "There is no mixed-type data\n",
      "There is no mixed-type data\n",
      "monthly_premium\n",
      "months_since_last_claim\n",
      "months_since_policy_inception\n",
      "no_of_open_complaints\n",
      "no_of_policies\n",
      "There is no mixed-type data\n",
      "There is no mixed-type data\n",
      "There is no mixed-type data\n",
      "There is no mixed-type data\n",
      "total_claim\n",
      "There is no mixed-type data\n",
      "There is no mixed-type data\n"
     ]
    }
   ],
   "source": [
    "for col in df_clv.columns.tolist():\n",
    "    weird = (df_clv[col].apply(type) != type(df_clv[col].iloc[0])).any()\n",
    "    if weird:\n",
    "        print(col)\n",
    "    else: \n",
    "        print('There is no mixed-type data')"
   ]
  },
  {
   "cell_type": "code",
   "execution_count": 88,
   "id": "4edf38aa-767b-448e-889d-49057e402d21",
   "metadata": {},
   "outputs": [],
   "source": [
    "## Checking duplicates in the dataset\n",
    "\n",
    "df_clv_dups = df_clv[df_clv.duplicated()]"
   ]
  },
  {
   "cell_type": "code",
   "execution_count": 90,
   "id": "9dcb3013-92e0-4d41-ae81-d4b67b64a7ee",
   "metadata": {},
   "outputs": [
    {
     "data": {
      "text/html": [
       "<div>\n",
       "<style scoped>\n",
       "    .dataframe tbody tr th:only-of-type {\n",
       "        vertical-align: middle;\n",
       "    }\n",
       "\n",
       "    .dataframe tbody tr th {\n",
       "        vertical-align: top;\n",
       "    }\n",
       "\n",
       "    .dataframe thead th {\n",
       "        text-align: right;\n",
       "    }\n",
       "</style>\n",
       "<table border=\"1\" class=\"dataframe\">\n",
       "  <thead>\n",
       "    <tr style=\"text-align: right;\">\n",
       "      <th></th>\n",
       "      <th>customer_id</th>\n",
       "      <th>state</th>\n",
       "      <th>customer_lifetime_value</th>\n",
       "      <th>response</th>\n",
       "      <th>coverage</th>\n",
       "      <th>education</th>\n",
       "      <th>effective_to_date</th>\n",
       "      <th>employment_status</th>\n",
       "      <th>gender</th>\n",
       "      <th>income</th>\n",
       "      <th>...</th>\n",
       "      <th>months_since_policy_inception</th>\n",
       "      <th>no_of_open_complaints</th>\n",
       "      <th>no_of_policies</th>\n",
       "      <th>policy_type</th>\n",
       "      <th>policy</th>\n",
       "      <th>renew_offer_type</th>\n",
       "      <th>sales_channel</th>\n",
       "      <th>total_claim</th>\n",
       "      <th>vehicle_class</th>\n",
       "      <th>vehicle_size</th>\n",
       "    </tr>\n",
       "  </thead>\n",
       "  <tbody>\n",
       "  </tbody>\n",
       "</table>\n",
       "<p>0 rows × 24 columns</p>\n",
       "</div>"
      ],
      "text/plain": [
       "Empty DataFrame\n",
       "Columns: [customer_id, state, customer_lifetime_value, response, coverage, education, effective_to_date, employment_status, gender, income, region, marital_status, monthly_premium, months_since_last_claim, months_since_policy_inception, no_of_open_complaints, no_of_policies, policy_type, policy, renew_offer_type, sales_channel, total_claim, vehicle_class, vehicle_size]\n",
       "Index: []\n",
       "\n",
       "[0 rows x 24 columns]"
      ]
     },
     "execution_count": 90,
     "metadata": {},
     "output_type": "execute_result"
    }
   ],
   "source": [
    "df_clv_dups.head()"
   ]
  },
  {
   "cell_type": "markdown",
   "id": "1a58925b-58cc-4f8a-9317-fccbb2c29003",
   "metadata": {},
   "source": [
    "#### There are no duplicates"
   ]
  },
  {
   "cell_type": "code",
   "execution_count": 93,
   "id": "8606d9c6-b5bd-413e-bf37-ad50646c3172",
   "metadata": {},
   "outputs": [
    {
     "name": "stdout",
     "output_type": "stream",
     "text": [
      "       customer_lifetime_value              effective_to_date        income  \\\n",
      "count              9134.000000                           9134   9134.000000   \n",
      "mean               8004.940475  2011-03-29 07:59:25.316400384  37657.380009   \n",
      "min                1898.007675            2011-01-01 00:00:00      0.000000   \n",
      "25%                3994.251794            2011-01-25 00:00:00      0.000000   \n",
      "50%                5780.182197            2011-02-19 00:00:00  33889.500000   \n",
      "75%                8962.167041            2011-05-01 00:00:00  62320.000000   \n",
      "max               83325.381190            2011-12-02 00:00:00  99981.000000   \n",
      "std                6870.967608                            NaN  30379.904734   \n",
      "\n",
      "       monthly_premium  months_since_last_claim  \\\n",
      "count      9134.000000              9134.000000   \n",
      "mean         93.219291                15.097000   \n",
      "min          61.000000                 0.000000   \n",
      "25%          68.000000                 6.000000   \n",
      "50%          83.000000                14.000000   \n",
      "75%         109.000000                23.000000   \n",
      "max         298.000000                35.000000   \n",
      "std          34.407967                10.073257   \n",
      "\n",
      "       months_since_policy_inception  no_of_open_complaints  no_of_policies  \\\n",
      "count                    9134.000000            9134.000000     9134.000000   \n",
      "mean                       48.064594               0.384388        2.966170   \n",
      "min                         0.000000               0.000000        1.000000   \n",
      "25%                        24.000000               0.000000        1.000000   \n",
      "50%                        48.000000               0.000000        2.000000   \n",
      "75%                        71.000000               0.000000        4.000000   \n",
      "max                        99.000000               5.000000        9.000000   \n",
      "std                        27.905991               0.910384        2.390182   \n",
      "\n",
      "       total_claim  \n",
      "count  9134.000000  \n",
      "mean    434.088794  \n",
      "min       0.099007  \n",
      "25%     272.258244  \n",
      "50%     383.945434  \n",
      "75%     547.514839  \n",
      "max    2893.239678  \n",
      "std     290.500092  \n"
     ]
    }
   ],
   "source": [
    "## Performing descriptive analysis\n",
    "\n",
    "print(df_clv.describe())"
   ]
  },
  {
   "cell_type": "code",
   "execution_count": 95,
   "id": "76a3e032-a194-4be4-b8e1-fd5aae705459",
   "metadata": {},
   "outputs": [],
   "source": [
    "## Saving the cleaned data file"
   ]
  },
  {
   "cell_type": "code",
   "execution_count": 97,
   "id": "81424504-72ae-4614-8b46-6b31211e60db",
   "metadata": {},
   "outputs": [],
   "source": [
    "df_clv.to_csv(os.path.join(path, 'Cleaned Data', 'clean_clv_data.xlsx'))"
   ]
  }
 ],
 "metadata": {
  "kernelspec": {
   "display_name": "Python [conda env:base] *",
   "language": "python",
   "name": "conda-base-py"
  },
  "language_info": {
   "codemirror_mode": {
    "name": "ipython",
    "version": 3
   },
   "file_extension": ".py",
   "mimetype": "text/x-python",
   "name": "python",
   "nbconvert_exporter": "python",
   "pygments_lexer": "ipython3",
   "version": "3.12.4"
  }
 },
 "nbformat": 4,
 "nbformat_minor": 5
}
